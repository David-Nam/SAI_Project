{
  "cells": [
    {
      "cell_type": "code",
      "execution_count": null,
      "metadata": {
        "colab": {
          "base_uri": "https://localhost:8080/"
        },
        "id": "uFmPA7iE_Sxx",
        "outputId": "ade33a09-70e2-4c24-f33c-3fb4e1f86aa6"
      },
      "outputs": [],
      "source": [
        "!git clone https://github.com/David-Nam/SAI_Project.git\n",
        "%cd SAI_Project\n",
        "!git checkout main\n",
        "!git pull origin main\n",
        "%cd .."
      ]
    },
    {
      "cell_type": "code",
      "execution_count": 19,
      "metadata": {
        "id": "g158UQ6jVgOB"
      },
      "outputs": [],
      "source": [
        "import sys\n",
        "sys.path.append('/content/SAI_Project')"
      ]
    },
    {
      "cell_type": "code",
      "execution_count": null,
      "metadata": {
        "colab": {
          "base_uri": "https://localhost:8080/"
        },
        "id": "H6XbGLXFS2m6",
        "outputId": "4e809482-d295-4933-dbb8-71291133420e"
      },
      "outputs": [],
      "source": [
        "!pip install -r SAI_Project/requirements.txt"
      ]
    },
    {
      "cell_type": "code",
      "execution_count": 23,
      "metadata": {
        "id": "xeLObHHQThoE"
      },
      "outputs": [],
      "source": [
        "from nlp04 import KakaoAnalyzer\n",
        "from word_frequency_analyzer import WordFrequencyAnalyzer\n",
        "import os\n",
        "\n",
        "def get_valid_file_path():\n",
        "    \"\"\"사용자로부터 유효한 파일 경로를 입력받음\"\"\"\n",
        "    while True:\n",
        "        file_path = input(\"\\n분석할 파일 경로를 입력하세요 (txt 또는 csv 파일): \").strip()\n",
        "\n",
        "        if not file_path:\n",
        "            print(\"파일 경로를 입력해주세요.\")\n",
        "            continue\n",
        "\n",
        "        if not os.path.exists(file_path):\n",
        "            print(\"파일이 존재하지 않습니다. 다시 입력해주세요.\")\n",
        "            continue\n",
        "\n",
        "        if not file_path.endswith(('.txt', '.csv')):\n",
        "            print(\"지원되는 파일 형식은 .txt 또는 .csv 입니다.\")\n",
        "            continue\n",
        "\n",
        "        return file_path"
      ]
    },
    {
      "cell_type": "code",
      "execution_count": null,
      "metadata": {
        "colab": {
          "base_uri": "https://localhost:8080/",
          "height": 472
        },
        "id": "GPP4J5uHTshd",
        "outputId": "cc1efcf0-f3bb-4b59-fd1e-79b15300ffd2"
      },
      "outputs": [],
      "source": [
        "print(\"카카오톡 대화 분석기\")\n",
        "print(\"=====================\")\n",
        "\n",
        "# NLP 분석기 초기화\n",
        "print(\"\\nNLP 모델을 사용하여 분석합니다...\")\n",
        "analyzer = KakaoAnalyzer()\n",
        "\n",
        "print(\"\\nKakaoAnalyzer 로드 완료!\")\n",
        "\n",
        "# 파일 경로 입력 받기\n",
        "file_path = get_valid_file_path()\n",
        "\n",
        "print(f\"\\n'{file_path}' 파일을 분석합니다...\")\n",
        "\n",
        "# 메시지 분석\n",
        "results = analyzer.analyze_kakao_csv(file_path)\n",
        "\n",
        "# 결과 시각화 및 저장\n",
        "if results is not None:\n",
        "    analyzer.visualize_results(results)\n",
        "\n",
        "    # 단어 빈도 분석 수행\n",
        "    print(\"\\n단어 빈도 분석을 수행합니다...\")\n",
        "    word_analyzer = WordFrequencyAnalyzer()\n",
        "    try:\n",
        "        top_words = word_analyzer.analyze_file(file_path)\n",
        "        output_file = word_analyzer.save_results_to_json(file_path, top_words)\n",
        "        print(f\"\\n단어 빈도 분석 결과가 {output_file}에 저장되었습니다.\")\n",
        "    except Exception as e:\n",
        "        print(f\"단어 빈도 분석 중 오류 발생: {str(e)}\")\n",
        "else:\n",
        "    print(\"분석을 완료할 수 없습니다.\")"
      ]
    }
  ],
  "metadata": {
    "colab": {
      "provenance": []
    },
    "kernelspec": {
      "display_name": "Python 3",
      "name": "python3"
    },
    "language_info": {
      "name": "python"
    }
  },
  "nbformat": 4,
  "nbformat_minor": 0
}
